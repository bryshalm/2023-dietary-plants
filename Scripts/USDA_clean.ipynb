{
 "cells": [
  {
   "cell_type": "code",
   "execution_count": 2,
   "metadata": {},
   "outputs": [],
   "source": [
    "import pandas as pd"
   ]
  },
  {
   "cell_type": "code",
   "execution_count": 3,
   "metadata": {},
   "outputs": [],
   "source": [
    "\n",
    "df = pd.read_csv('../db/USDA_data.csv')"
   ]
  },
  {
   "cell_type": "code",
   "execution_count": 4,
   "metadata": {},
   "outputs": [
    {
     "data": {
      "text/html": [
       "<div>\n",
       "<style scoped>\n",
       "    .dataframe tbody tr th:only-of-type {\n",
       "        vertical-align: middle;\n",
       "    }\n",
       "\n",
       "    .dataframe tbody tr th {\n",
       "        vertical-align: top;\n",
       "    }\n",
       "\n",
       "    .dataframe thead th {\n",
       "        text-align: right;\n",
       "    }\n",
       "</style>\n",
       "<table border=\"1\" class=\"dataframe\">\n",
       "  <thead>\n",
       "    <tr style=\"text-align: right;\">\n",
       "      <th></th>\n",
       "      <th>Symbol</th>\n",
       "      <th>Synonym Symbol</th>\n",
       "      <th>Scientific Name with Author</th>\n",
       "      <th>Common Name</th>\n",
       "      <th>Family</th>\n",
       "    </tr>\n",
       "  </thead>\n",
       "  <tbody>\n",
       "    <tr>\n",
       "      <th>0</th>\n",
       "      <td>ABAB</td>\n",
       "      <td>NaN</td>\n",
       "      <td>Abutilon abutiloides (Jacq.) Garcke ex Hochr.</td>\n",
       "      <td>shrubby Indian mallow</td>\n",
       "      <td>Malvaceae</td>\n",
       "    </tr>\n",
       "    <tr>\n",
       "      <th>1</th>\n",
       "      <td>ABAB</td>\n",
       "      <td>ABAM5</td>\n",
       "      <td>Abutilon americanum (L.) Sweet</td>\n",
       "      <td>NaN</td>\n",
       "      <td>NaN</td>\n",
       "    </tr>\n",
       "    <tr>\n",
       "      <th>2</th>\n",
       "      <td>ABAB</td>\n",
       "      <td>ABJA</td>\n",
       "      <td>Abutilon jacquinii G. Don</td>\n",
       "      <td>NaN</td>\n",
       "      <td>NaN</td>\n",
       "    </tr>\n",
       "    <tr>\n",
       "      <th>3</th>\n",
       "      <td>ABAB</td>\n",
       "      <td>ABLI</td>\n",
       "      <td>Abutilon lignosum (Cav.) G. Don</td>\n",
       "      <td>NaN</td>\n",
       "      <td>NaN</td>\n",
       "    </tr>\n",
       "    <tr>\n",
       "      <th>4</th>\n",
       "      <td>ABAB70</td>\n",
       "      <td>NaN</td>\n",
       "      <td>Abietinella abietina (Hedw.) Fleisch.</td>\n",
       "      <td>abietinella moss</td>\n",
       "      <td>Thuidiaceae</td>\n",
       "    </tr>\n",
       "  </tbody>\n",
       "</table>\n",
       "</div>"
      ],
      "text/plain": [
       "   Symbol Synonym Symbol                    Scientific Name with Author  \\\n",
       "0    ABAB            NaN  Abutilon abutiloides (Jacq.) Garcke ex Hochr.   \n",
       "1    ABAB          ABAM5                 Abutilon americanum (L.) Sweet   \n",
       "2    ABAB           ABJA                      Abutilon jacquinii G. Don   \n",
       "3    ABAB           ABLI                Abutilon lignosum (Cav.) G. Don   \n",
       "4  ABAB70            NaN          Abietinella abietina (Hedw.) Fleisch.   \n",
       "\n",
       "             Common Name       Family  \n",
       "0  shrubby Indian mallow    Malvaceae  \n",
       "1                    NaN          NaN  \n",
       "2                    NaN          NaN  \n",
       "3                    NaN          NaN  \n",
       "4       abietinella moss  Thuidiaceae  "
      ]
     },
     "execution_count": 4,
     "metadata": {},
     "output_type": "execute_result"
    }
   ],
   "source": [
    "df.head()"
   ]
  },
  {
   "cell_type": "code",
   "execution_count": 5,
   "metadata": {},
   "outputs": [
    {
     "data": {
      "text/plain": [
       "(93157, 5)"
      ]
     },
     "execution_count": 5,
     "metadata": {},
     "output_type": "execute_result"
    }
   ],
   "source": [
    "df.shape"
   ]
  },
  {
   "cell_type": "code",
   "execution_count": 6,
   "metadata": {},
   "outputs": [
    {
     "data": {
      "text/plain": [
       "Salix babylonica auct. non L.                                         2\n",
       "Acer barbatum Michx. p.p.                                             2\n",
       "Carex sonomensis Stacey                                               2\n",
       "Paspalum platyphyllum Griseb., non Schult.                            2\n",
       "Botrychium alaskense W.H. Wagner & J.R. Grant                         2\n",
       "                                                                     ..\n",
       "Trichophyllum tenue (Willd.) Farw.                                    1\n",
       "Scirpus quadrangulatus Muhl., non Michx.                              1\n",
       "Eleocharis capitata sensu S.F. Blake, non (L.) R. Br.                 1\n",
       "Eleocharis tenuis (Willd.) Schult. var. tenuis                        1\n",
       "Zygodon viridissimus (Dicks.) Brid. var. dentatus (Breidl.) Limpr.    1\n",
       "Name: Scientific Name with Author, Length: 93150, dtype: int64"
      ]
     },
     "execution_count": 6,
     "metadata": {},
     "output_type": "execute_result"
    }
   ],
   "source": [
    "df['Scientific Name with Author'].value_counts()"
   ]
  },
  {
   "cell_type": "code",
   "execution_count": 8,
   "metadata": {},
   "outputs": [
    {
     "data": {
      "text/plain": [
       "count                             93157\n",
       "unique                            93150\n",
       "top       Salix babylonica auct. non L.\n",
       "freq                                  2\n",
       "Name: Scientific Name with Author, dtype: object"
      ]
     },
     "execution_count": 8,
     "metadata": {},
     "output_type": "execute_result"
    }
   ],
   "source": [
    "df['Scientific Name with Author'].describe()"
   ]
  },
  {
   "cell_type": "code",
   "execution_count": 10,
   "metadata": {},
   "outputs": [
    {
     "data": {
      "text/plain": [
       "rim lichen                        127\n",
       "dot lichen                        105\n",
       "wart lichen                       104\n",
       "lecidea lichen                    101\n",
       "cup lichen                         92\n",
       "                                 ... \n",
       "cutleaf burnweed                    1\n",
       "San Clemente Island buckwheat       1\n",
       "Santa Barbara Island buckwheat      1\n",
       "whiteflower goldenbush              1\n",
       "Reinwardt's zygodon moss            1\n",
       "Name: Common Name, Length: 31718, dtype: int64"
      ]
     },
     "execution_count": 10,
     "metadata": {},
     "output_type": "execute_result"
    }
   ],
   "source": [
    "df['Common Name'].value_counts()"
   ]
  },
  {
   "cell_type": "code",
   "execution_count": 11,
   "metadata": {},
   "outputs": [
    {
     "data": {
      "text/plain": [
       "49381"
      ]
     },
     "execution_count": 11,
     "metadata": {},
     "output_type": "execute_result"
    }
   ],
   "source": [
    "df['Common Name'].isna().sum()"
   ]
  },
  {
   "cell_type": "markdown",
   "metadata": {},
   "source": [
    "Some organisms (lichens mostly) have multiple scientific names associated to the same common name.\n",
    "\n",
    "About half 50k entries don't have a common name asscoiated with it"
   ]
  },
  {
   "cell_type": "markdown",
   "metadata": {},
   "source": [
    "## Extacting relevant data from db"
   ]
  },
  {
   "cell_type": "code",
   "execution_count": 12,
   "metadata": {},
   "outputs": [
    {
     "data": {
      "text/plain": [
       "(43776, 5)"
      ]
     },
     "execution_count": 12,
     "metadata": {},
     "output_type": "execute_result"
    }
   ],
   "source": [
    "# dropping na values in scientific name columnn\n",
    "df_drop = df.dropna(subset=['Common Name'])\n",
    "df_drop.shape"
   ]
  },
  {
   "cell_type": "code",
   "execution_count": 14,
   "metadata": {},
   "outputs": [
    {
     "name": "stderr",
     "output_type": "stream",
     "text": [
      "C:\\Users\\sande\\Documents\\MobaXterm\\slash\\var\\log\\xwin\\ipykernel_27680\\3656619262.py:1: SettingWithCopyWarning: \n",
      "A value is trying to be set on a copy of a slice from a DataFrame\n",
      "\n",
      "See the caveats in the documentation: https://pandas.pydata.org/pandas-docs/stable/user_guide/indexing.html#returning-a-view-versus-a-copy\n",
      "  df_drop.drop_duplicates(subset=['Scientific Name with Author'], keep='first', inplace=True)\n"
     ]
    }
   ],
   "source": [
    "# Dropping sci names with duplicates.\n",
    "df_drop.drop_duplicates(subset=['Scientific Name with Author'], keep='first', inplace=True)"
   ]
  },
  {
   "cell_type": "code",
   "execution_count": 15,
   "metadata": {},
   "outputs": [
    {
     "data": {
      "text/plain": [
       "Index(['Symbol', 'Synonym Symbol', 'Scientific Name with Author',\n",
       "       'Common Name', 'Family'],\n",
       "      dtype='object')"
      ]
     },
     "execution_count": 15,
     "metadata": {},
     "output_type": "execute_result"
    }
   ],
   "source": [
    "df_drop.columns"
   ]
  },
  {
   "cell_type": "code",
   "execution_count": 16,
   "metadata": {},
   "outputs": [],
   "source": [
    "final = df_drop[['Symbol','Scientific Name with Author','Common Name']]"
   ]
  },
  {
   "cell_type": "code",
   "execution_count": 18,
   "metadata": {},
   "outputs": [],
   "source": [
    "def std_name(name):\n",
    "    word_list = name.split()\n",
    "    #accession,region = word_list[0].split(':')\n",
    "\n",
    "    sci_name = word_list[0]+' '+word_list[1]\n",
    "    other = ' '.join(word_list[2:])\n",
    "    #return accession,region,sci_name,other\n",
    "    return sci_name,other"
   ]
  },
  {
   "cell_type": "code",
   "execution_count": 19,
   "metadata": {},
   "outputs": [
    {
     "name": "stderr",
     "output_type": "stream",
     "text": [
      "C:\\Users\\sande\\Documents\\MobaXterm\\slash\\var\\log\\xwin\\ipykernel_27680\\1522321515.py:1: SettingWithCopyWarning: \n",
      "A value is trying to be set on a copy of a slice from a DataFrame.\n",
      "Try using .loc[row_indexer,col_indexer] = value instead\n",
      "\n",
      "See the caveats in the documentation: https://pandas.pydata.org/pandas-docs/stable/user_guide/indexing.html#returning-a-view-versus-a-copy\n",
      "  final[['scientific_name', 'other']] = final['Scientific Name with Author'].apply(lambda x: pd.Series(std_name(x)))\n"
     ]
    }
   ],
   "source": [
    "final[['scientific_name', 'other']] = final['Scientific Name with Author'].apply(lambda x: pd.Series(std_name(x)))"
   ]
  },
  {
   "cell_type": "code",
   "execution_count": 20,
   "metadata": {},
   "outputs": [
    {
     "data": {
      "text/html": [
       "<div>\n",
       "<style scoped>\n",
       "    .dataframe tbody tr th:only-of-type {\n",
       "        vertical-align: middle;\n",
       "    }\n",
       "\n",
       "    .dataframe tbody tr th {\n",
       "        vertical-align: top;\n",
       "    }\n",
       "\n",
       "    .dataframe thead th {\n",
       "        text-align: right;\n",
       "    }\n",
       "</style>\n",
       "<table border=\"1\" class=\"dataframe\">\n",
       "  <thead>\n",
       "    <tr style=\"text-align: right;\">\n",
       "      <th></th>\n",
       "      <th>Symbol</th>\n",
       "      <th>Scientific Name with Author</th>\n",
       "      <th>Common Name</th>\n",
       "      <th>scientific_name</th>\n",
       "      <th>other</th>\n",
       "    </tr>\n",
       "  </thead>\n",
       "  <tbody>\n",
       "    <tr>\n",
       "      <th>0</th>\n",
       "      <td>ABAB</td>\n",
       "      <td>Abutilon abutiloides (Jacq.) Garcke ex Hochr.</td>\n",
       "      <td>shrubby Indian mallow</td>\n",
       "      <td>Abutilon abutiloides</td>\n",
       "      <td>(Jacq.) Garcke ex Hochr.</td>\n",
       "    </tr>\n",
       "    <tr>\n",
       "      <th>4</th>\n",
       "      <td>ABAB70</td>\n",
       "      <td>Abietinella abietina (Hedw.) Fleisch.</td>\n",
       "      <td>abietinella moss</td>\n",
       "      <td>Abietinella abietina</td>\n",
       "      <td>(Hedw.) Fleisch.</td>\n",
       "    </tr>\n",
       "    <tr>\n",
       "      <th>7</th>\n",
       "      <td>ABAL</td>\n",
       "      <td>Abronia alpina Brandegee</td>\n",
       "      <td>Ramshaw Meadows sand verbena</td>\n",
       "      <td>Abronia alpina</td>\n",
       "      <td>Brandegee</td>\n",
       "    </tr>\n",
       "    <tr>\n",
       "      <th>8</th>\n",
       "      <td>ABAL3</td>\n",
       "      <td>Abies alba Mill.</td>\n",
       "      <td>silver fir</td>\n",
       "      <td>Abies alba</td>\n",
       "      <td>Mill.</td>\n",
       "    </tr>\n",
       "    <tr>\n",
       "      <th>9</th>\n",
       "      <td>ABAM</td>\n",
       "      <td>Abies amabilis (Douglas ex Loudon) Douglas ex ...</td>\n",
       "      <td>Pacific silver fir</td>\n",
       "      <td>Abies amabilis</td>\n",
       "      <td>(Douglas ex Loudon) Douglas ex Forbes</td>\n",
       "    </tr>\n",
       "  </tbody>\n",
       "</table>\n",
       "</div>"
      ],
      "text/plain": [
       "   Symbol                        Scientific Name with Author  \\\n",
       "0    ABAB      Abutilon abutiloides (Jacq.) Garcke ex Hochr.   \n",
       "4  ABAB70              Abietinella abietina (Hedw.) Fleisch.   \n",
       "7    ABAL                           Abronia alpina Brandegee   \n",
       "8   ABAL3                                   Abies alba Mill.   \n",
       "9    ABAM  Abies amabilis (Douglas ex Loudon) Douglas ex ...   \n",
       "\n",
       "                    Common Name       scientific_name  \\\n",
       "0         shrubby Indian mallow  Abutilon abutiloides   \n",
       "4              abietinella moss  Abietinella abietina   \n",
       "7  Ramshaw Meadows sand verbena        Abronia alpina   \n",
       "8                    silver fir            Abies alba   \n",
       "9            Pacific silver fir        Abies amabilis   \n",
       "\n",
       "                                   other  \n",
       "0               (Jacq.) Garcke ex Hochr.  \n",
       "4                       (Hedw.) Fleisch.  \n",
       "7                              Brandegee  \n",
       "8                                  Mill.  \n",
       "9  (Douglas ex Loudon) Douglas ex Forbes  "
      ]
     },
     "execution_count": 20,
     "metadata": {},
     "output_type": "execute_result"
    }
   ],
   "source": [
    "final.head()"
   ]
  },
  {
   "cell_type": "code",
   "execution_count": 21,
   "metadata": {},
   "outputs": [],
   "source": [
    "final.to_csv('../db/common_name_USDA.csv', index=True)"
   ]
  }
 ],
 "metadata": {
  "kernelspec": {
   "display_name": "base",
   "language": "python",
   "name": "python3"
  },
  "language_info": {
   "codemirror_mode": {
    "name": "ipython",
    "version": 3
   },
   "file_extension": ".py",
   "mimetype": "text/x-python",
   "name": "python",
   "nbconvert_exporter": "python",
   "pygments_lexer": "ipython3",
   "version": "3.9.17"
  },
  "orig_nbformat": 4
 },
 "nbformat": 4,
 "nbformat_minor": 2
}
