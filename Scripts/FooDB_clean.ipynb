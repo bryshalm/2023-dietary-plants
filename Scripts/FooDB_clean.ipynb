{
 "cells": [
  {
   "cell_type": "code",
   "execution_count": 2,
   "metadata": {},
   "outputs": [],
   "source": [
    "import pandas as pd"
   ]
  },
  {
   "cell_type": "code",
   "execution_count": 3,
   "metadata": {},
   "outputs": [
    {
     "name": "stderr",
     "output_type": "stream",
     "text": [
      "C:\\Users\\sande\\AppData\\Local\\Temp\\ipykernel_7300\\1989823227.py:1: DtypeWarning: Columns (4,5,6,7,8,9,13,14,21,22,24) have mixed types. Specify dtype option on import or set low_memory=False.\n",
      "  df= pd.read_csv('..\\db\\Content.csv')\n"
     ]
    }
   ],
   "source": [
    "df= pd.read_csv('..\\db\\Content.csv')"
   ]
  },
  {
   "cell_type": "code",
   "execution_count": 4,
   "metadata": {},
   "outputs": [
    {
     "data": {
      "text/html": [
       "<div>\n",
       "<style scoped>\n",
       "    .dataframe tbody tr th:only-of-type {\n",
       "        vertical-align: middle;\n",
       "    }\n",
       "\n",
       "    .dataframe tbody tr th {\n",
       "        vertical-align: top;\n",
       "    }\n",
       "\n",
       "    .dataframe thead th {\n",
       "        text-align: right;\n",
       "    }\n",
       "</style>\n",
       "<table border=\"1\" class=\"dataframe\">\n",
       "  <thead>\n",
       "    <tr style=\"text-align: right;\">\n",
       "      <th></th>\n",
       "      <th>id</th>\n",
       "      <th>source_id</th>\n",
       "      <th>source_type</th>\n",
       "      <th>food_id</th>\n",
       "      <th>orig_food_id</th>\n",
       "      <th>orig_food_common_name</th>\n",
       "      <th>orig_food_scientific_name</th>\n",
       "      <th>orig_food_part</th>\n",
       "      <th>orig_source_id</th>\n",
       "      <th>orig_source_name</th>\n",
       "      <th>...</th>\n",
       "      <th>citation_type</th>\n",
       "      <th>creator_id</th>\n",
       "      <th>updater_id</th>\n",
       "      <th>created_at</th>\n",
       "      <th>updated_at</th>\n",
       "      <th>orig_method</th>\n",
       "      <th>orig_unit_expression</th>\n",
       "      <th>standard_content</th>\n",
       "      <th>preparation_type</th>\n",
       "      <th>export</th>\n",
       "    </tr>\n",
       "  </thead>\n",
       "  <tbody>\n",
       "    <tr>\n",
       "      <th>0</th>\n",
       "      <td>1</td>\n",
       "      <td>1</td>\n",
       "      <td>Nutrient</td>\n",
       "      <td>4</td>\n",
       "      <td>29</td>\n",
       "      <td>Kiwi</td>\n",
       "      <td>Actinidia chinensis PLANCHON [Actinidiaceae]</td>\n",
       "      <td>Fruit</td>\n",
       "      <td>FAT</td>\n",
       "      <td>FAT</td>\n",
       "      <td>...</td>\n",
       "      <td>DATABASE</td>\n",
       "      <td>NaN</td>\n",
       "      <td>NaN</td>\n",
       "      <td>2014-11-05 13:42:11 UTC</td>\n",
       "      <td>2019-12-11 20:23:57 UTC</td>\n",
       "      <td>NaN</td>\n",
       "      <td>NaN</td>\n",
       "      <td>1955.00</td>\n",
       "      <td>raw</td>\n",
       "      <td>0</td>\n",
       "    </tr>\n",
       "    <tr>\n",
       "      <th>1</th>\n",
       "      <td>2</td>\n",
       "      <td>1</td>\n",
       "      <td>Nutrient</td>\n",
       "      <td>6</td>\n",
       "      <td>53</td>\n",
       "      <td>Onion</td>\n",
       "      <td>Allium cepa L. [Liliaceae]</td>\n",
       "      <td>Bulb</td>\n",
       "      <td>FAT</td>\n",
       "      <td>FAT</td>\n",
       "      <td>...</td>\n",
       "      <td>DATABASE</td>\n",
       "      <td>NaN</td>\n",
       "      <td>NaN</td>\n",
       "      <td>2014-11-05 13:42:11 UTC</td>\n",
       "      <td>2019-12-11 20:23:57 UTC</td>\n",
       "      <td>NaN</td>\n",
       "      <td>NaN</td>\n",
       "      <td>1853.95</td>\n",
       "      <td>raw</td>\n",
       "      <td>0</td>\n",
       "    </tr>\n",
       "    <tr>\n",
       "      <th>2</th>\n",
       "      <td>3</td>\n",
       "      <td>1</td>\n",
       "      <td>Nutrient</td>\n",
       "      <td>6</td>\n",
       "      <td>53</td>\n",
       "      <td>Onion</td>\n",
       "      <td>Allium cepa L. [Liliaceae]</td>\n",
       "      <td>Leaf</td>\n",
       "      <td>FAT</td>\n",
       "      <td>FAT</td>\n",
       "      <td>...</td>\n",
       "      <td>DATABASE</td>\n",
       "      <td>NaN</td>\n",
       "      <td>NaN</td>\n",
       "      <td>2014-11-05 13:42:11 UTC</td>\n",
       "      <td>2019-12-11 20:23:57 UTC</td>\n",
       "      <td>NaN</td>\n",
       "      <td>NaN</td>\n",
       "      <td>4150.00</td>\n",
       "      <td>raw</td>\n",
       "      <td>0</td>\n",
       "    </tr>\n",
       "    <tr>\n",
       "      <th>3</th>\n",
       "      <td>4</td>\n",
       "      <td>1</td>\n",
       "      <td>Nutrient</td>\n",
       "      <td>9</td>\n",
       "      <td>55</td>\n",
       "      <td>Chives</td>\n",
       "      <td>Allium schoenoprasum L. [Liliaceae]</td>\n",
       "      <td>Leaf</td>\n",
       "      <td>FAT</td>\n",
       "      <td>FAT</td>\n",
       "      <td>...</td>\n",
       "      <td>DATABASE</td>\n",
       "      <td>NaN</td>\n",
       "      <td>NaN</td>\n",
       "      <td>2014-11-05 13:42:11 UTC</td>\n",
       "      <td>2019-12-11 20:23:57 UTC</td>\n",
       "      <td>NaN</td>\n",
       "      <td>NaN</td>\n",
       "      <td>3900.00</td>\n",
       "      <td>raw</td>\n",
       "      <td>0</td>\n",
       "    </tr>\n",
       "    <tr>\n",
       "      <th>4</th>\n",
       "      <td>5</td>\n",
       "      <td>1</td>\n",
       "      <td>Nutrient</td>\n",
       "      <td>11</td>\n",
       "      <td>70</td>\n",
       "      <td>Cashew</td>\n",
       "      <td>Anacardium occidentale L. [Anacardiaceae]</td>\n",
       "      <td>Fruit</td>\n",
       "      <td>FAT</td>\n",
       "      <td>FAT</td>\n",
       "      <td>...</td>\n",
       "      <td>DATABASE</td>\n",
       "      <td>NaN</td>\n",
       "      <td>NaN</td>\n",
       "      <td>2014-11-05 13:42:11 UTC</td>\n",
       "      <td>2019-12-11 20:23:57 UTC</td>\n",
       "      <td>NaN</td>\n",
       "      <td>NaN</td>\n",
       "      <td>2500.00</td>\n",
       "      <td>other</td>\n",
       "      <td>0</td>\n",
       "    </tr>\n",
       "  </tbody>\n",
       "</table>\n",
       "<p>5 rows × 26 columns</p>\n",
       "</div>"
      ],
      "text/plain": [
       "   id  source_id source_type  food_id orig_food_id orig_food_common_name  \\\n",
       "0   1          1    Nutrient        4           29                  Kiwi   \n",
       "1   2          1    Nutrient        6           53                 Onion   \n",
       "2   3          1    Nutrient        6           53                 Onion   \n",
       "3   4          1    Nutrient        9           55                Chives   \n",
       "4   5          1    Nutrient       11           70                Cashew   \n",
       "\n",
       "                      orig_food_scientific_name orig_food_part orig_source_id  \\\n",
       "0  Actinidia chinensis PLANCHON [Actinidiaceae]          Fruit            FAT   \n",
       "1                    Allium cepa L. [Liliaceae]           Bulb            FAT   \n",
       "2                    Allium cepa L. [Liliaceae]           Leaf            FAT   \n",
       "3           Allium schoenoprasum L. [Liliaceae]           Leaf            FAT   \n",
       "4     Anacardium occidentale L. [Anacardiaceae]          Fruit            FAT   \n",
       "\n",
       "  orig_source_name  ...  citation_type  creator_id  updater_id  \\\n",
       "0              FAT  ...       DATABASE         NaN         NaN   \n",
       "1              FAT  ...       DATABASE         NaN         NaN   \n",
       "2              FAT  ...       DATABASE         NaN         NaN   \n",
       "3              FAT  ...       DATABASE         NaN         NaN   \n",
       "4              FAT  ...       DATABASE         NaN         NaN   \n",
       "\n",
       "                created_at               updated_at orig_method  \\\n",
       "0  2014-11-05 13:42:11 UTC  2019-12-11 20:23:57 UTC         NaN   \n",
       "1  2014-11-05 13:42:11 UTC  2019-12-11 20:23:57 UTC         NaN   \n",
       "2  2014-11-05 13:42:11 UTC  2019-12-11 20:23:57 UTC         NaN   \n",
       "3  2014-11-05 13:42:11 UTC  2019-12-11 20:23:57 UTC         NaN   \n",
       "4  2014-11-05 13:42:11 UTC  2019-12-11 20:23:57 UTC         NaN   \n",
       "\n",
       "  orig_unit_expression  standard_content  preparation_type export  \n",
       "0                  NaN           1955.00               raw      0  \n",
       "1                  NaN           1853.95               raw      0  \n",
       "2                  NaN           4150.00               raw      0  \n",
       "3                  NaN           3900.00               raw      0  \n",
       "4                  NaN           2500.00             other      0  \n",
       "\n",
       "[5 rows x 26 columns]"
      ]
     },
     "execution_count": 4,
     "metadata": {},
     "output_type": "execute_result"
    }
   ],
   "source": [
    "df.head()"
   ]
  },
  {
   "cell_type": "markdown",
   "metadata": {},
   "source": [
    "## Analysis of DB"
   ]
  },
  {
   "cell_type": "code",
   "execution_count": 9,
   "metadata": {},
   "outputs": [
    {
     "data": {
      "text/plain": [
       "(5145532, 26)"
      ]
     },
     "execution_count": 9,
     "metadata": {},
     "output_type": "execute_result"
    }
   ],
   "source": [
    "df.shape"
   ]
  },
  {
   "cell_type": "code",
   "execution_count": 13,
   "metadata": {},
   "outputs": [
    {
     "data": {
      "text/plain": [
       "Camellia sinensis (L.) KUNTZE [Theaceae]    4242\n",
       "Capsicum annuum L. [Solanaceae]             1840\n",
       "Daucus carota L. [Apiaceae]                  748\n",
       "Zea mays L. [Poaceae]                        672\n",
       "Apium graveolens L. [Apiaceae]               644\n",
       "                                            ... \n",
       "Curcuma domestica                              1\n",
       "Anthriscus cerefolium                          1\n",
       "Coffea robusta                                 1\n",
       "Bos taurus                                     1\n",
       "Arctium lappa L.                               1\n",
       "Name: orig_food_scientific_name, Length: 678, dtype: int64"
      ]
     },
     "execution_count": 13,
     "metadata": {},
     "output_type": "execute_result"
    }
   ],
   "source": [
    "df['orig_food_scientific_name'].value_counts()"
   ]
  },
  {
   "cell_type": "code",
   "execution_count": 11,
   "metadata": {},
   "outputs": [
    {
     "data": {
      "text/plain": [
       "count                                        46097\n",
       "unique                                         678\n",
       "top       Camellia sinensis (L.) KUNTZE [Theaceae]\n",
       "freq                                          4242\n",
       "Name: orig_food_scientific_name, dtype: object"
      ]
     },
     "execution_count": 11,
     "metadata": {},
     "output_type": "execute_result"
    }
   ],
   "source": [
    "df['orig_food_scientific_name'].describe()"
   ]
  },
  {
   "cell_type": "code",
   "execution_count": 12,
   "metadata": {},
   "outputs": [
    {
     "data": {
      "text/plain": [
       "5099435"
      ]
     },
     "execution_count": 12,
     "metadata": {},
     "output_type": "execute_result"
    }
   ],
   "source": [
    "df['orig_food_scientific_name'].isna().sum()"
   ]
  },
  {
   "cell_type": "markdown",
   "metadata": {},
   "source": [
    "Analysis summary:\n",
    "\n",
    "Out of the 5145532 rows, 5099435 are Nan ie have missing scientific names. Out of the 46097 fields without Nan scientific names, many are duplicates and only 678 unique scientific names are present.\n",
    "In addition, the scientific names aren't in standard genus species notation. For eg. Apium graveolens L. [Apiaceae]. Need to do some string manipulation to fix this."
   ]
  },
  {
   "cell_type": "markdown",
   "metadata": {},
   "source": [
    "## Extacting relevant data from db"
   ]
  },
  {
   "cell_type": "code",
   "execution_count": 22,
   "metadata": {},
   "outputs": [
    {
     "data": {
      "text/plain": [
       "(46097, 26)"
      ]
     },
     "execution_count": 22,
     "metadata": {},
     "output_type": "execute_result"
    }
   ],
   "source": [
    "# dropping na values in scientific name columnn\n",
    "df_drop = df.dropna(subset=['orig_food_scientific_name'])\n",
    "df_drop.shape"
   ]
  },
  {
   "cell_type": "code",
   "execution_count": 23,
   "metadata": {},
   "outputs": [
    {
     "name": "stderr",
     "output_type": "stream",
     "text": [
      "C:\\Users\\sande\\AppData\\Local\\Temp\\ipykernel_7300\\2033690832.py:1: SettingWithCopyWarning: \n",
      "A value is trying to be set on a copy of a slice from a DataFrame\n",
      "\n",
      "See the caveats in the documentation: https://pandas.pydata.org/pandas-docs/stable/user_guide/indexing.html#returning-a-view-versus-a-copy\n",
      "  df_drop.drop_duplicates(subset=['orig_food_scientific_name'], keep='first', inplace=True)\n"
     ]
    }
   ],
   "source": [
    "df_drop.drop_duplicates(subset=['orig_food_scientific_name'], keep='first', inplace=True)"
   ]
  },
  {
   "cell_type": "code",
   "execution_count": 24,
   "metadata": {},
   "outputs": [
    {
     "data": {
      "text/plain": [
       "(678, 26)"
      ]
     },
     "execution_count": 24,
     "metadata": {},
     "output_type": "execute_result"
    }
   ],
   "source": [
    "df_drop.shape"
   ]
  },
  {
   "cell_type": "code",
   "execution_count": 26,
   "metadata": {},
   "outputs": [
    {
     "data": {
      "text/plain": [
       "438"
      ]
     },
     "execution_count": 26,
     "metadata": {},
     "output_type": "execute_result"
    }
   ],
   "source": [
    "df_drop['orig_food_common_name'].isna().sum()"
   ]
  },
  {
   "cell_type": "code",
   "execution_count": 30,
   "metadata": {},
   "outputs": [
    {
     "data": {
      "text/plain": [
       "(240, 26)"
      ]
     },
     "execution_count": 30,
     "metadata": {},
     "output_type": "execute_result"
    }
   ],
   "source": [
    "df_drop =df_drop.dropna(subset=['orig_food_common_name'])\n",
    "df_drop.shape"
   ]
  },
  {
   "cell_type": "code",
   "execution_count": 31,
   "metadata": {},
   "outputs": [
    {
     "data": {
      "text/plain": [
       "Index(['id', 'source_id', 'source_type', 'food_id', 'orig_food_id',\n",
       "       'orig_food_common_name', 'orig_food_scientific_name', 'orig_food_part',\n",
       "       'orig_source_id', 'orig_source_name', 'orig_content', 'orig_min',\n",
       "       'orig_max', 'orig_unit', 'orig_citation', 'citation', 'citation_type',\n",
       "       'creator_id', 'updater_id', 'created_at', 'updated_at', 'orig_method',\n",
       "       'orig_unit_expression', 'standard_content', 'preparation_type',\n",
       "       'export'],\n",
       "      dtype='object')"
      ]
     },
     "execution_count": 31,
     "metadata": {},
     "output_type": "execute_result"
    }
   ],
   "source": [
    "df_drop.columns"
   ]
  },
  {
   "cell_type": "code",
   "execution_count": 33,
   "metadata": {},
   "outputs": [],
   "source": [
    "final = df_drop[['food_id','orig_food_common_name','orig_food_scientific_name']]"
   ]
  },
  {
   "cell_type": "markdown",
   "metadata": {},
   "source": [
    "Extraction Summary\n",
    "\n",
    "Out of the 678 unique scientific names, only 240 had a matching common name. So we drop all na values of common names. Finally we chose the relevant columns in the df named final"
   ]
  },
  {
   "cell_type": "code",
   "execution_count": 45,
   "metadata": {},
   "outputs": [
    {
     "data": {
      "text/plain": [
       "food_id                                               6\n",
       "orig_food_common_name                             Onion\n",
       "orig_food_scientific_name    Allium cepa L. [Liliaceae]\n",
       "scientific_name                             Allium cepa\n",
       "other                                    L. [Liliaceae]\n",
       "Name: 1, dtype: object"
      ]
     },
     "execution_count": 45,
     "metadata": {},
     "output_type": "execute_result"
    }
   ],
   "source": [
    "final.iloc[1,:]"
   ]
  },
  {
   "cell_type": "markdown",
   "metadata": {},
   "source": [
    "The scientific name is of a weird format. Need to standardize this"
   ]
  },
  {
   "cell_type": "code",
   "execution_count": 37,
   "metadata": {},
   "outputs": [],
   "source": [
    "def std_name(name):\n",
    "    word_list = name.split()\n",
    "    sci_name = word_list[0]+' '+word_list[1]\n",
    "    other = ' '.join(word_list[2:])\n",
    "    return sci_name,other"
   ]
  },
  {
   "cell_type": "code",
   "execution_count": 42,
   "metadata": {},
   "outputs": [
    {
     "name": "stderr",
     "output_type": "stream",
     "text": [
      "C:\\Users\\sande\\AppData\\Local\\Temp\\ipykernel_7300\\1100743060.py:1: SettingWithCopyWarning: \n",
      "A value is trying to be set on a copy of a slice from a DataFrame.\n",
      "Try using .loc[row_indexer,col_indexer] = value instead\n",
      "\n",
      "See the caveats in the documentation: https://pandas.pydata.org/pandas-docs/stable/user_guide/indexing.html#returning-a-view-versus-a-copy\n",
      "  final[['scientific_name', 'other']] = final['orig_food_scientific_name'].apply(lambda x: pd.Series(std_name(x)))\n",
      "C:\\Users\\sande\\AppData\\Local\\Temp\\ipykernel_7300\\1100743060.py:1: SettingWithCopyWarning: \n",
      "A value is trying to be set on a copy of a slice from a DataFrame.\n",
      "Try using .loc[row_indexer,col_indexer] = value instead\n",
      "\n",
      "See the caveats in the documentation: https://pandas.pydata.org/pandas-docs/stable/user_guide/indexing.html#returning-a-view-versus-a-copy\n",
      "  final[['scientific_name', 'other']] = final['orig_food_scientific_name'].apply(lambda x: pd.Series(std_name(x)))\n"
     ]
    }
   ],
   "source": [
    "final[['scientific_name', 'other']] = final['orig_food_scientific_name'].apply(lambda x: pd.Series(std_name(x)))"
   ]
  },
  {
   "cell_type": "code",
   "execution_count": 43,
   "metadata": {},
   "outputs": [
    {
     "data": {
      "text/html": [
       "<div>\n",
       "<style scoped>\n",
       "    .dataframe tbody tr th:only-of-type {\n",
       "        vertical-align: middle;\n",
       "    }\n",
       "\n",
       "    .dataframe tbody tr th {\n",
       "        vertical-align: top;\n",
       "    }\n",
       "\n",
       "    .dataframe thead th {\n",
       "        text-align: right;\n",
       "    }\n",
       "</style>\n",
       "<table border=\"1\" class=\"dataframe\">\n",
       "  <thead>\n",
       "    <tr style=\"text-align: right;\">\n",
       "      <th></th>\n",
       "      <th>food_id</th>\n",
       "      <th>orig_food_common_name</th>\n",
       "      <th>orig_food_scientific_name</th>\n",
       "      <th>scientific_name</th>\n",
       "      <th>other</th>\n",
       "    </tr>\n",
       "  </thead>\n",
       "  <tbody>\n",
       "    <tr>\n",
       "      <th>0</th>\n",
       "      <td>4</td>\n",
       "      <td>Kiwi</td>\n",
       "      <td>Actinidia chinensis PLANCHON [Actinidiaceae]</td>\n",
       "      <td>Actinidia chinensis</td>\n",
       "      <td>PLANCHON [Actinidiaceae]</td>\n",
       "    </tr>\n",
       "    <tr>\n",
       "      <th>1</th>\n",
       "      <td>6</td>\n",
       "      <td>Onion</td>\n",
       "      <td>Allium cepa L. [Liliaceae]</td>\n",
       "      <td>Allium cepa</td>\n",
       "      <td>L. [Liliaceae]</td>\n",
       "    </tr>\n",
       "    <tr>\n",
       "      <th>3</th>\n",
       "      <td>9</td>\n",
       "      <td>Chives</td>\n",
       "      <td>Allium schoenoprasum L. [Liliaceae]</td>\n",
       "      <td>Allium schoenoprasum</td>\n",
       "      <td>L. [Liliaceae]</td>\n",
       "    </tr>\n",
       "    <tr>\n",
       "      <th>4</th>\n",
       "      <td>11</td>\n",
       "      <td>Cashew</td>\n",
       "      <td>Anacardium occidentale L. [Anacardiaceae]</td>\n",
       "      <td>Anacardium occidentale</td>\n",
       "      <td>L. [Anacardiaceae]</td>\n",
       "    </tr>\n",
       "    <tr>\n",
       "      <th>7</th>\n",
       "      <td>12</td>\n",
       "      <td>Pineapple</td>\n",
       "      <td>Ananas comosus (L.) MERR. [Bromeliaceae]</td>\n",
       "      <td>Ananas comosus</td>\n",
       "      <td>(L.) MERR. [Bromeliaceae]</td>\n",
       "    </tr>\n",
       "  </tbody>\n",
       "</table>\n",
       "</div>"
      ],
      "text/plain": [
       "   food_id orig_food_common_name  \\\n",
       "0        4                  Kiwi   \n",
       "1        6                 Onion   \n",
       "3        9                Chives   \n",
       "4       11                Cashew   \n",
       "7       12             Pineapple   \n",
       "\n",
       "                      orig_food_scientific_name         scientific_name  \\\n",
       "0  Actinidia chinensis PLANCHON [Actinidiaceae]     Actinidia chinensis   \n",
       "1                    Allium cepa L. [Liliaceae]             Allium cepa   \n",
       "3           Allium schoenoprasum L. [Liliaceae]    Allium schoenoprasum   \n",
       "4     Anacardium occidentale L. [Anacardiaceae]  Anacardium occidentale   \n",
       "7      Ananas comosus (L.) MERR. [Bromeliaceae]          Ananas comosus   \n",
       "\n",
       "                       other  \n",
       "0   PLANCHON [Actinidiaceae]  \n",
       "1             L. [Liliaceae]  \n",
       "3             L. [Liliaceae]  \n",
       "4         L. [Anacardiaceae]  \n",
       "7  (L.) MERR. [Bromeliaceae]  "
      ]
     },
     "execution_count": 43,
     "metadata": {},
     "output_type": "execute_result"
    }
   ],
   "source": [
    "final.head()"
   ]
  },
  {
   "cell_type": "code",
   "execution_count": 44,
   "metadata": {},
   "outputs": [
    {
     "data": {
      "text/plain": [
       "(240, 5)"
      ]
     },
     "execution_count": 44,
     "metadata": {},
     "output_type": "execute_result"
    }
   ],
   "source": [
    "final.shape"
   ]
  },
  {
   "cell_type": "code",
   "execution_count": 47,
   "metadata": {},
   "outputs": [],
   "source": [
    "final.to_csv('../db/common_name.csv', index=True)"
   ]
  }
 ],
 "metadata": {
  "kernelspec": {
   "display_name": "base",
   "language": "python",
   "name": "python3"
  },
  "language_info": {
   "codemirror_mode": {
    "name": "ipython",
    "version": 3
   },
   "file_extension": ".py",
   "mimetype": "text/x-python",
   "name": "python",
   "nbconvert_exporter": "python",
   "pygments_lexer": "ipython3",
   "version": "3.9.17"
  },
  "orig_nbformat": 4
 },
 "nbformat": 4,
 "nbformat_minor": 2
}
