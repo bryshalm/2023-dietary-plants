{
 "cells": [
  {
   "cell_type": "code",
   "execution_count": 82,
   "metadata": {},
   "outputs": [],
   "source": [
    "import pandas as pd"
   ]
  },
  {
   "cell_type": "code",
   "execution_count": 83,
   "metadata": {},
   "outputs": [
    {
     "name": "stderr",
     "output_type": "stream",
     "text": [
      "C:\\Users\\sande\\AppData\\Local\\Temp\\ipykernel_21712\\3755593038.py:1: FutureWarning: The error_bad_lines argument has been deprecated and will be removed in a future version. Use on_bad_lines in the future.\n",
      "\n",
      "\n",
      "  df= pd.read_csv('..\\db\\db.trnL.names.csv.gz', error_bad_lines=False, compression='gzip',header=None)\n",
      "b'Skipping line 6997: expected 6 fields, saw 7\\nSkipping line 6998: expected 6 fields, saw 7\\nSkipping line 8006: expected 6 fields, saw 7\\nSkipping line 8007: expected 6 fields, saw 7\\nSkipping line 15331: expected 6 fields, saw 7\\nSkipping line 43036: expected 6 fields, saw 7\\n'\n"
     ]
    }
   ],
   "source": [
    "df= pd.read_csv('..\\db\\db.trnL.names.csv.gz', error_bad_lines=False, compression='gzip',header=None)"
   ]
  },
  {
   "cell_type": "markdown",
   "metadata": {},
   "source": [
    "bad lines\n",
    "\n",
    "-2684587,wasps, ants & bees,N/R,Vespula,structor,Invertebrates\n",
    "\n",
    "-2684587,wasps, ants & bees,N/R,Vespula,structor,Invertebrates\n",
    "\n",
    "-2989845,wasps, ants & bees,N/R,Ooencyrtus,plautus,Invertebrates\n",
    "\n",
    "-2989845,wasps, ants & bees,N/R,Ooencyrtus,plautus,Invertebrates\n",
    "\n",
    "-89805,wasps, ants & bees,N/R,Cotesia,flavipes,Invertebrates\n",
    "\n",
    "-167339,monocots,N/R,Eulalia,aurea (Bory) Kunth, 1830,Plants and Fungi\n"
   ]
  },
  {
   "cell_type": "code",
   "execution_count": 84,
   "metadata": {},
   "outputs": [
    {
     "data": {
      "text/html": [
       "<div>\n",
       "<style scoped>\n",
       "    .dataframe tbody tr th:only-of-type {\n",
       "        vertical-align: middle;\n",
       "    }\n",
       "\n",
       "    .dataframe tbody tr th {\n",
       "        vertical-align: top;\n",
       "    }\n",
       "\n",
       "    .dataframe thead th {\n",
       "        text-align: right;\n",
       "    }\n",
       "</style>\n",
       "<table border=\"1\" class=\"dataframe\">\n",
       "  <thead>\n",
       "    <tr style=\"text-align: right;\">\n",
       "      <th></th>\n",
       "      <th>0</th>\n",
       "      <th>1</th>\n",
       "      <th>2</th>\n",
       "      <th>3</th>\n",
       "      <th>4</th>\n",
       "      <th>5</th>\n",
       "    </tr>\n",
       "  </thead>\n",
       "  <tbody>\n",
       "    <tr>\n",
       "      <th>0</th>\n",
       "      <td>84230</td>\n",
       "      <td>mosses</td>\n",
       "      <td>N/R</td>\n",
       "      <td>Anomodon</td>\n",
       "      <td>rugelii</td>\n",
       "      <td>Plants and Fungi</td>\n",
       "    </tr>\n",
       "    <tr>\n",
       "      <th>1</th>\n",
       "      <td>1144458</td>\n",
       "      <td>eudicots</td>\n",
       "      <td>N/R</td>\n",
       "      <td>Trichosanthes</td>\n",
       "      <td>quinquangulata</td>\n",
       "      <td>Plants and Fungi</td>\n",
       "    </tr>\n",
       "    <tr>\n",
       "      <th>2</th>\n",
       "      <td>1144458</td>\n",
       "      <td>eudicots</td>\n",
       "      <td>N/R</td>\n",
       "      <td>Trichosanthes</td>\n",
       "      <td>quinquangulata</td>\n",
       "      <td>Plants and Fungi</td>\n",
       "    </tr>\n",
       "    <tr>\n",
       "      <th>3</th>\n",
       "      <td>685054</td>\n",
       "      <td>eudicots</td>\n",
       "      <td>N/R</td>\n",
       "      <td>Trichosanthes</td>\n",
       "      <td>cucumeroides</td>\n",
       "      <td>Plants and Fungi</td>\n",
       "    </tr>\n",
       "    <tr>\n",
       "      <th>4</th>\n",
       "      <td>84230</td>\n",
       "      <td>mosses</td>\n",
       "      <td>N/R</td>\n",
       "      <td>Anomodon</td>\n",
       "      <td>rugelii</td>\n",
       "      <td>Plants and Fungi</td>\n",
       "    </tr>\n",
       "  </tbody>\n",
       "</table>\n",
       "</div>"
      ],
      "text/plain": [
       "         0         1    2              3               4                 5\n",
       "0    84230    mosses  N/R       Anomodon         rugelii  Plants and Fungi\n",
       "1  1144458  eudicots  N/R  Trichosanthes  quinquangulata  Plants and Fungi\n",
       "2  1144458  eudicots  N/R  Trichosanthes  quinquangulata  Plants and Fungi\n",
       "3   685054  eudicots  N/R  Trichosanthes    cucumeroides  Plants and Fungi\n",
       "4    84230    mosses  N/R       Anomodon         rugelii  Plants and Fungi"
      ]
     },
     "execution_count": 84,
     "metadata": {},
     "output_type": "execute_result"
    }
   ],
   "source": [
    "df.head()"
   ]
  },
  {
   "cell_type": "code",
   "execution_count": 85,
   "metadata": {},
   "outputs": [],
   "source": [
    "df.columns= ['trnL_id','family','common_name','genus','species','type']"
   ]
  },
  {
   "cell_type": "code",
   "execution_count": 86,
   "metadata": {},
   "outputs": [
    {
     "data": {
      "text/plain": [
       "N/R                       43511\n",
       "Sichuan-pepper               12\n",
       "goosegrass                    9\n",
       "carob                         8\n",
       "loblolly pine                 8\n",
       "                          ...  \n",
       "New Zealand pipit             1\n",
       "gray rockcress                1\n",
       "spotted laughingthrush        1\n",
       "Hoge's toadhead turtle        1\n",
       "silver-eye                    1\n",
       "Name: common_name, Length: 1916, dtype: int64"
      ]
     },
     "execution_count": 86,
     "metadata": {},
     "output_type": "execute_result"
    }
   ],
   "source": [
    "df['common_name'].value_counts()"
   ]
  },
  {
   "cell_type": "code",
   "execution_count": 87,
   "metadata": {},
   "outputs": [
    {
     "data": {
      "text/plain": [
       "Plants and Fungi         46308\n",
       "Invertebrates             2316\n",
       "Vertebrates               1107\n",
       "Mammals                    131\n",
       "Rodents                     40\n",
       "Primates                    17\n",
       "N/R                          4\n",
       "Viruses                      3\n",
       "Phages                       2\n",
       "Environmental samples        1\n",
       "Bacteria                     1\n",
       "Name: type, dtype: int64"
      ]
     },
     "execution_count": 87,
     "metadata": {},
     "output_type": "execute_result"
    }
   ],
   "source": [
    "df['type'].value_counts()"
   ]
  },
  {
   "cell_type": "code",
   "execution_count": 88,
   "metadata": {},
   "outputs": [],
   "source": [
    "df['scientific_name'] = df['genus']+\" \"+df['species']"
   ]
  },
  {
   "cell_type": "code",
   "execution_count": 89,
   "metadata": {},
   "outputs": [
    {
     "data": {
      "text/html": [
       "<div>\n",
       "<style scoped>\n",
       "    .dataframe tbody tr th:only-of-type {\n",
       "        vertical-align: middle;\n",
       "    }\n",
       "\n",
       "    .dataframe tbody tr th {\n",
       "        vertical-align: top;\n",
       "    }\n",
       "\n",
       "    .dataframe thead th {\n",
       "        text-align: right;\n",
       "    }\n",
       "</style>\n",
       "<table border=\"1\" class=\"dataframe\">\n",
       "  <thead>\n",
       "    <tr style=\"text-align: right;\">\n",
       "      <th></th>\n",
       "      <th>trnL_id</th>\n",
       "      <th>family</th>\n",
       "      <th>common_name</th>\n",
       "      <th>genus</th>\n",
       "      <th>species</th>\n",
       "      <th>type</th>\n",
       "      <th>scientific_name</th>\n",
       "    </tr>\n",
       "  </thead>\n",
       "  <tbody>\n",
       "    <tr>\n",
       "      <th>0</th>\n",
       "      <td>84230</td>\n",
       "      <td>mosses</td>\n",
       "      <td>N/R</td>\n",
       "      <td>Anomodon</td>\n",
       "      <td>rugelii</td>\n",
       "      <td>Plants and Fungi</td>\n",
       "      <td>Anomodon rugelii</td>\n",
       "    </tr>\n",
       "    <tr>\n",
       "      <th>1</th>\n",
       "      <td>1144458</td>\n",
       "      <td>eudicots</td>\n",
       "      <td>N/R</td>\n",
       "      <td>Trichosanthes</td>\n",
       "      <td>quinquangulata</td>\n",
       "      <td>Plants and Fungi</td>\n",
       "      <td>Trichosanthes quinquangulata</td>\n",
       "    </tr>\n",
       "    <tr>\n",
       "      <th>2</th>\n",
       "      <td>1144458</td>\n",
       "      <td>eudicots</td>\n",
       "      <td>N/R</td>\n",
       "      <td>Trichosanthes</td>\n",
       "      <td>quinquangulata</td>\n",
       "      <td>Plants and Fungi</td>\n",
       "      <td>Trichosanthes quinquangulata</td>\n",
       "    </tr>\n",
       "    <tr>\n",
       "      <th>3</th>\n",
       "      <td>685054</td>\n",
       "      <td>eudicots</td>\n",
       "      <td>N/R</td>\n",
       "      <td>Trichosanthes</td>\n",
       "      <td>cucumeroides</td>\n",
       "      <td>Plants and Fungi</td>\n",
       "      <td>Trichosanthes cucumeroides</td>\n",
       "    </tr>\n",
       "    <tr>\n",
       "      <th>4</th>\n",
       "      <td>84230</td>\n",
       "      <td>mosses</td>\n",
       "      <td>N/R</td>\n",
       "      <td>Anomodon</td>\n",
       "      <td>rugelii</td>\n",
       "      <td>Plants and Fungi</td>\n",
       "      <td>Anomodon rugelii</td>\n",
       "    </tr>\n",
       "  </tbody>\n",
       "</table>\n",
       "</div>"
      ],
      "text/plain": [
       "   trnL_id    family common_name          genus         species  \\\n",
       "0    84230    mosses         N/R       Anomodon         rugelii   \n",
       "1  1144458  eudicots         N/R  Trichosanthes  quinquangulata   \n",
       "2  1144458  eudicots         N/R  Trichosanthes  quinquangulata   \n",
       "3   685054  eudicots         N/R  Trichosanthes    cucumeroides   \n",
       "4    84230    mosses         N/R       Anomodon         rugelii   \n",
       "\n",
       "               type               scientific_name  \n",
       "0  Plants and Fungi              Anomodon rugelii  \n",
       "1  Plants and Fungi  Trichosanthes quinquangulata  \n",
       "2  Plants and Fungi  Trichosanthes quinquangulata  \n",
       "3  Plants and Fungi    Trichosanthes cucumeroides  \n",
       "4  Plants and Fungi              Anomodon rugelii  "
      ]
     },
     "execution_count": 89,
     "metadata": {},
     "output_type": "execute_result"
    }
   ],
   "source": [
    "df.head()"
   ]
  },
  {
   "cell_type": "code",
   "execution_count": 90,
   "metadata": {},
   "outputs": [],
   "source": [
    "df_rel = df[['trnL_id','common_name','genus','species','scientific_name','type']]"
   ]
  },
  {
   "cell_type": "code",
   "execution_count": 91,
   "metadata": {},
   "outputs": [],
   "source": [
    "df_rel =df[(df['type']=='Plants and Fungi') & (df['common_name'] != 'N/R')]"
   ]
  },
  {
   "cell_type": "code",
   "execution_count": 92,
   "metadata": {},
   "outputs": [
    {
     "data": {
      "text/plain": [
       "(5400, 7)"
      ]
     },
     "execution_count": 92,
     "metadata": {},
     "output_type": "execute_result"
    }
   ],
   "source": [
    "df_rel.shape"
   ]
  },
  {
   "cell_type": "code",
   "execution_count": 93,
   "metadata": {},
   "outputs": [
    {
     "data": {
      "text/plain": [
       "Sichuan-pepper             12\n",
       "goosegrass                  9\n",
       "carob                       8\n",
       "loblolly pine               8\n",
       "maidenhair tree             7\n",
       "                           ..\n",
       "gray rockcress              1\n",
       "southern adder's-tongue     1\n",
       "tall fescue                 1\n",
       "sea hearse                  1\n",
       "velvet grass                1\n",
       "Name: common_name, Length: 1396, dtype: int64"
      ]
     },
     "execution_count": 93,
     "metadata": {},
     "output_type": "execute_result"
    }
   ],
   "source": [
    "df_rel['common_name'].value_counts()"
   ]
  },
  {
   "cell_type": "code",
   "execution_count": 94,
   "metadata": {},
   "outputs": [
    {
     "data": {
      "text/plain": [
       "N/R N/R                      76\n",
       "Hordeum vulgare              13\n",
       "Oryza sativa                 10\n",
       "Sorghum bicolor              10\n",
       "Zea mays                     10\n",
       "                             ..\n",
       "Hernandia nymphaeifolia       1\n",
       "Arabis alpina                 1\n",
       "Holcus lanatus                1\n",
       "Gynerium sagittatum           1\n",
       "Saccharomyces pastorianus     1\n",
       "Name: scientific_name, Length: 1369, dtype: int64"
      ]
     },
     "execution_count": 94,
     "metadata": {},
     "output_type": "execute_result"
    }
   ],
   "source": [
    "df_rel['scientific_name'].value_counts()"
   ]
  },
  {
   "cell_type": "code",
   "execution_count": 95,
   "metadata": {},
   "outputs": [],
   "source": [
    "df_rel=df_rel[df_rel['scientific_name'] != 'N/R N/R']"
   ]
  },
  {
   "cell_type": "code",
   "execution_count": 96,
   "metadata": {},
   "outputs": [],
   "source": [
    "df_rel.drop_duplicates(subset=['scientific_name'], keep='first', inplace=True)"
   ]
  },
  {
   "cell_type": "code",
   "execution_count": 97,
   "metadata": {},
   "outputs": [
    {
     "data": {
      "text/plain": [
       "Helleborus foetidus      1\n",
       "Ipomoea lacunosa         1\n",
       "Fagopyrum dibotrys       1\n",
       "Dioscorea polystachya    1\n",
       "Pisum abyssinicum        1\n",
       "                        ..\n",
       "Cakile lanceolata        1\n",
       "Torenia fournieri        1\n",
       "Verbena officinalis      1\n",
       "Ilex rotunda             1\n",
       "Nicotiana tabacum        1\n",
       "Name: scientific_name, Length: 1368, dtype: int64"
      ]
     },
     "execution_count": 97,
     "metadata": {},
     "output_type": "execute_result"
    }
   ],
   "source": [
    "df_rel['scientific_name'].value_counts()"
   ]
  },
  {
   "cell_type": "code",
   "execution_count": 98,
   "metadata": {},
   "outputs": [
    {
     "data": {
      "text/plain": [
       "Sichuan-pepper            3\n",
       "clap-weed                 2\n",
       "goosegrass                2\n",
       "stinking hellebore        1\n",
       "trilobed morning glory    1\n",
       "                         ..\n",
       "American sea rocket       1\n",
       "searocket                 1\n",
       "bluewings                 1\n",
       "pigeon's-grass            1\n",
       "common tobacco            1\n",
       "Name: common_name, Length: 1364, dtype: int64"
      ]
     },
     "execution_count": 98,
     "metadata": {},
     "output_type": "execute_result"
    }
   ],
   "source": [
    "df_rel['common_name'].value_counts()"
   ]
  },
  {
   "cell_type": "code",
   "execution_count": 99,
   "metadata": {},
   "outputs": [],
   "source": [
    "df_rel.drop_duplicates(subset=['common_name'], keep='first', inplace=True)"
   ]
  },
  {
   "cell_type": "code",
   "execution_count": 100,
   "metadata": {},
   "outputs": [
    {
     "data": {
      "text/plain": [
       "(1364, 7)"
      ]
     },
     "execution_count": 100,
     "metadata": {},
     "output_type": "execute_result"
    }
   ],
   "source": [
    "df_rel.shape"
   ]
  },
  {
   "cell_type": "code",
   "execution_count": 101,
   "metadata": {},
   "outputs": [
    {
     "data": {
      "text/html": [
       "<div>\n",
       "<style scoped>\n",
       "    .dataframe tbody tr th:only-of-type {\n",
       "        vertical-align: middle;\n",
       "    }\n",
       "\n",
       "    .dataframe tbody tr th {\n",
       "        vertical-align: top;\n",
       "    }\n",
       "\n",
       "    .dataframe thead th {\n",
       "        text-align: right;\n",
       "    }\n",
       "</style>\n",
       "<table border=\"1\" class=\"dataframe\">\n",
       "  <thead>\n",
       "    <tr style=\"text-align: right;\">\n",
       "      <th></th>\n",
       "      <th>trnL_id</th>\n",
       "      <th>family</th>\n",
       "      <th>common_name</th>\n",
       "      <th>genus</th>\n",
       "      <th>species</th>\n",
       "      <th>type</th>\n",
       "      <th>scientific_name</th>\n",
       "    </tr>\n",
       "  </thead>\n",
       "  <tbody>\n",
       "    <tr>\n",
       "      <th>21</th>\n",
       "      <td>46996</td>\n",
       "      <td>flowering plants</td>\n",
       "      <td>stinking hellebore</td>\n",
       "      <td>Helleborus</td>\n",
       "      <td>foetidus</td>\n",
       "      <td>Plants and Fungi</td>\n",
       "      <td>Helleborus foetidus</td>\n",
       "    </tr>\n",
       "    <tr>\n",
       "      <th>24</th>\n",
       "      <td>78511</td>\n",
       "      <td>eudicots</td>\n",
       "      <td>European black currant</td>\n",
       "      <td>Ribes</td>\n",
       "      <td>nigrum</td>\n",
       "      <td>Plants and Fungi</td>\n",
       "      <td>Ribes nigrum</td>\n",
       "    </tr>\n",
       "    <tr>\n",
       "      <th>25</th>\n",
       "      <td>175228</td>\n",
       "      <td>eudicots</td>\n",
       "      <td>red currant</td>\n",
       "      <td>Ribes</td>\n",
       "      <td>rubrum</td>\n",
       "      <td>Plants and Fungi</td>\n",
       "      <td>Ribes rubrum</td>\n",
       "    </tr>\n",
       "    <tr>\n",
       "      <th>28</th>\n",
       "      <td>135518</td>\n",
       "      <td>eudicots</td>\n",
       "      <td>English gooseberry</td>\n",
       "      <td>Ribes</td>\n",
       "      <td>uva-crispa</td>\n",
       "      <td>Plants and Fungi</td>\n",
       "      <td>Ribes uva-crispa</td>\n",
       "    </tr>\n",
       "    <tr>\n",
       "      <th>42</th>\n",
       "      <td>184985</td>\n",
       "      <td>eudicots</td>\n",
       "      <td>bei dian di mei</td>\n",
       "      <td>Androsace</td>\n",
       "      <td>septentrionalis</td>\n",
       "      <td>Plants and Fungi</td>\n",
       "      <td>Androsace septentrionalis</td>\n",
       "    </tr>\n",
       "  </tbody>\n",
       "</table>\n",
       "</div>"
      ],
      "text/plain": [
       "   trnL_id            family             common_name       genus  \\\n",
       "21   46996  flowering plants      stinking hellebore  Helleborus   \n",
       "24   78511          eudicots  European black currant       Ribes   \n",
       "25  175228          eudicots             red currant       Ribes   \n",
       "28  135518          eudicots      English gooseberry       Ribes   \n",
       "42  184985          eudicots         bei dian di mei   Androsace   \n",
       "\n",
       "            species              type            scientific_name  \n",
       "21         foetidus  Plants and Fungi        Helleborus foetidus  \n",
       "24           nigrum  Plants and Fungi               Ribes nigrum  \n",
       "25           rubrum  Plants and Fungi               Ribes rubrum  \n",
       "28       uva-crispa  Plants and Fungi           Ribes uva-crispa  \n",
       "42  septentrionalis  Plants and Fungi  Androsace septentrionalis  "
      ]
     },
     "execution_count": 101,
     "metadata": {},
     "output_type": "execute_result"
    }
   ],
   "source": [
    "df_rel.head()"
   ]
  },
  {
   "cell_type": "code",
   "execution_count": 112,
   "metadata": {},
   "outputs": [],
   "source": [
    "final = df_rel[['trnL_id','common_name','scientific_name']]"
   ]
  },
  {
   "cell_type": "code",
   "execution_count": 115,
   "metadata": {},
   "outputs": [],
   "source": [
    "final.columns=['trnL_id', 'common_name_trnL', 'scientific_name']"
   ]
  },
  {
   "cell_type": "code",
   "execution_count": 117,
   "metadata": {},
   "outputs": [],
   "source": [
    "final.to_csv('../Common-name/common_name_trnL.csv', index=True)"
   ]
  }
 ],
 "metadata": {
  "kernelspec": {
   "display_name": "base",
   "language": "python",
   "name": "python3"
  },
  "language_info": {
   "codemirror_mode": {
    "name": "ipython",
    "version": 3
   },
   "file_extension": ".py",
   "mimetype": "text/x-python",
   "name": "python",
   "nbconvert_exporter": "python",
   "pygments_lexer": "ipython3",
   "version": "3.9.17"
  },
  "orig_nbformat": 4
 },
 "nbformat": 4,
 "nbformat_minor": 2
}
